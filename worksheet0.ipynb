{
  "nbformat": 4,
  "nbformat_minor": 0,
  "metadata": {
    "colab": {
      "provenance": []
    },
    "kernelspec": {
      "name": "python3",
      "display_name": "Python 3"
    },
    "language_info": {
      "name": "python"
    }
  },
  "cells": [
    {
      "cell_type": "markdown",
      "source": [
        "#7.1.Task 1: Classify Temperatures.\n",
        "#Ans:"
      ],
      "metadata": {
        "id": "dtSPQ7Q9rVHx"
      }
    },
    {
      "cell_type": "code",
      "source": [
        "temperatures = [8.2, 17.4, 14.1, 7.9, 18.0, 13.5, 9.0, 17.8, 13.0, 8.5,\n",
        "16.5, 12.9, 7.7, 17.2, 13.3, 8.4, 16.7, 14.0, 9.5, 18.3, 13.4, 8.1,\n",
        "17.9, 14.2, 7.6, 17.0, 12.8, 8.0, 16.8, 13.7, 7.8, 17.5, 13.6, 8.7,\n",
        "17.1, 13.8, 9.2, 18.1, 13.9, 8.3, 16.4, 12.7, 8.9, 18.2, 13.1, 7.8,\n",
        "16.6, 12.5]\n",
        "cold=[]\n",
        "mild=[]\n",
        "comfortable=[]\n",
        "\n",
        "for temp in temperatures:\n",
        "  if temp < 10:\n",
        "    cold.append(temp)\n",
        "  elif 10 <= temp < 15:\n",
        "    mild.append(temp)\n",
        "  elif 15 <= temp <=20:\n",
        "    comfortable.append(temp)\n",
        "\n",
        "print(\"Cold temperatures:\",cold)\n",
        "print(\"Mild temperatures:\",mild)\n",
        "print(\"Comfortable temperatures:\", comfortable)"
      ],
      "metadata": {
        "colab": {
          "base_uri": "https://localhost:8080/"
        },
        "id": "SkQtcPMQsAIt",
        "outputId": "4a6cbad6-789f-4125-d6c4-29d5fa1f0709"
      },
      "execution_count": 1,
      "outputs": [
        {
          "output_type": "stream",
          "name": "stdout",
          "text": [
            "Cold temperatures: [8.2, 7.9, 9.0, 8.5, 7.7, 8.4, 9.5, 8.1, 7.6, 8.0, 7.8, 8.7, 9.2, 8.3, 8.9, 7.8]\n",
            "Mild temperatures: [14.1, 13.5, 13.0, 12.9, 13.3, 14.0, 13.4, 14.2, 12.8, 13.7, 13.6, 13.8, 13.9, 12.7, 13.1, 12.5]\n",
            "Comfortable temperatures: [17.4, 18.0, 17.8, 16.5, 17.2, 16.7, 18.3, 17.9, 17.0, 16.8, 17.5, 17.1, 18.1, 16.4, 18.2, 16.6]\n"
          ]
        }
      ]
    },
    {
      "cell_type": "markdown",
      "source": [
        "#7.1.Task 2: Counting the temperature based on the data.\n",
        "#Ans:"
      ],
      "metadata": {
        "id": "ztBzaFLMu48a"
      }
    },
    {
      "cell_type": "code",
      "source": [
        "cold_count = len(cold)\n",
        "mild_count = len(mild)\n",
        "comfortable_count = len(comfortable)\n",
        "\n",
        "print(f\"Total number of cold temperatures: {cold_count}\")\n",
        "print(f\"Total number of mild temperatures: {mild_count}\")\n",
        "print(f\"Total number of comfortable temperatures: {comfortable_count}\")"
      ],
      "metadata": {
        "colab": {
          "base_uri": "https://localhost:8080/"
        },
        "id": "psMAiNo3u7N2",
        "outputId": "98a644d6-cb29-49cf-d65f-e5c7cdce729e"
      },
      "execution_count": null,
      "outputs": [
        {
          "output_type": "stream",
          "name": "stdout",
          "text": [
            "Total number of cold temperatures: 16\n",
            "Total number of mild temperatures: 16\n",
            "Total number of comfortable temperatures: 16\n"
          ]
        }
      ]
    },
    {
      "cell_type": "markdown",
      "source": [
        "#7.1.Task 3. Convert Temperatures from Celsius to Fahrenheit\n",
        "#Ans:"
      ],
      "metadata": {
        "id": "J-TkD3s4vEfd"
      }
    },
    {
      "cell_type": "code",
      "source": [
        "temperature=[\n",
        "    8.2, 17.4, 14.1, 7.9, 18.0, 13.5, 9.0, 17.8, 13.0, 8.5,\n",
        "    16.5, 12.9, 7.7, 17.2, 13.3, 8.4, 16.7, 14.0, 9.5, 18.3,\n",
        "    13.4, 8.1, 17.9, 14.2, 7.6, 17.0, 12.8, 8.0, 16.8, 13.7,\n",
        "    7.8, 17.5, 13.6, 8.7, 17.1, 13.8, 9.2, 18.1, 13.9, 8.3,\n",
        "    16.4, 12.7, 8.9, 18.2, 13.1, 7.8, 16.6, 12.5\n",
        "]\n",
        "temperature_fahrenheit = []\n",
        "\n",
        "for temp in temperature:\n",
        "    fahrenheit = (temp * 9 / 5) + 32\n",
        "    temperature_fahrenheit.append(fahrenheit)\n",
        "\n",
        "print(\"Temperatures in Fahrenheit:\\n\", temperature_fahrenheit)\n",
        "\n"
      ],
      "metadata": {
        "colab": {
          "base_uri": "https://localhost:8080/"
        },
        "id": "75oFvvCavG_O",
        "outputId": "48416255-a3fa-412c-a98e-b974195add52"
      },
      "execution_count": null,
      "outputs": [
        {
          "output_type": "stream",
          "name": "stdout",
          "text": [
            "Temperatures in Fahrenheit:\n",
            " [46.76, 63.32, 57.379999999999995, 46.22, 64.4, 56.3, 48.2, 64.04, 55.4, 47.3, 61.7, 55.22, 45.86, 62.959999999999994, 55.94, 47.120000000000005, 62.059999999999995, 57.2, 49.1, 64.94, 56.120000000000005, 46.58, 64.22, 57.56, 45.68, 62.6, 55.04, 46.4, 62.24, 56.66, 46.04, 63.5, 56.48, 47.66, 62.78, 56.84, 48.56, 64.58, 57.02, 46.94, 61.519999999999996, 54.86, 48.02, 64.75999999999999, 55.58, 46.04, 61.88, 54.5]\n"
          ]
        }
      ]
    },
    {
      "cell_type": "markdown",
      "source": [
        "#7.1.Task4:Analyze Temperature Patterns by Time of Day:\n",
        "#Ans:"
      ],
      "metadata": {
        "id": "_YWk_0VXvSEk"
      }
    },
    {
      "cell_type": "code",
      "source": [
        "night_temps = temperatures[::3]\n",
        "evening_temps = temperatures[1::3]\n",
        "day_temps = temperatures[2::3]\n",
        "\n",
        "average_night_temp = sum(night_temps) / len(night_temps)\n",
        "average_evening_temp = sum(evening_temps) / len(evening_temps)\n",
        "average_day_temp = sum(day_temps) / len(day_temps)\n",
        "\n",
        "print(f\"Average night temperature: {average_night_temp:.2f}\")\n",
        "print(f\"Average evening temperature: {average_evening_temp:.2f}\")\n",
        "print(f\"Average day temperature: {average_day_temp:.2f}\")\n",
        "\n",
        "import matplotlib.pyplot as plt\n",
        "\n",
        "plt.plot(range(len(day_temps)), day_temps, label=\"Daytime\")\n",
        "plt.title(\"Daytime Temperatures\")\n",
        "plt.xlabel(\"Days\")\n",
        "plt.ylabel(\"Temperature (°C)\")\n",
        "plt.legend()\n",
        "plt.show()\n"
      ],
      "metadata": {
        "colab": {
          "base_uri": "https://localhost:8080/",
          "height": 524
        },
        "id": "9Cli-92OvUoc",
        "outputId": "68d0321e-2e50-4e1a-dcdf-ef3d7c2f6c5f"
      },
      "execution_count": null,
      "outputs": [
        {
          "output_type": "stream",
          "name": "stdout",
          "text": [
            "Average night temperature: 8.35\n",
            "Average evening temperature: 17.34\n",
            "Average day temperature: 13.41\n"
          ]
        },
        {
          "output_type": "display_data",
          "data": {
            "text/plain": [
              "<Figure size 640x480 with 1 Axes>"
            ],
            "image/png": "[encoded data removed]"
          },
          "metadata": {}
        }
      ]
    },
    {
      "cell_type": "markdown",
      "source": [
        "#8.1.1.Task 1 - Sum of Nested Lists:\n",
        "#ans:"
      ],
      "metadata": {
        "id": "KzqQWimUwP2D"
      }
    },
    {
      "cell_type": "code",
      "source": [
        "def sum_nested_list(nested_list):\n",
        "    total = 0\n",
        "    for element in nested_list:\n",
        "        if isinstance(element, list):\n",
        "            total += sum_nested_list(element)\n",
        "        else:\n",
        "            total += element\n",
        "    return total\n",
        "\n",
        "nested_list = [1, [2, [3, 4], 5], 6, [7, 8]]\n",
        "print(\"Sum of nested list:\", sum_nested_list(nested_list))\n"
      ],
      "metadata": {
        "colab": {
          "base_uri": "https://localhost:8080/"
        },
        "id": "zThhnM_ZvX06",
        "outputId": "8983b9e9-b370-4a75-ccc3-f92bdc413ff0"
      },
      "execution_count": null,
      "outputs": [
        {
          "output_type": "stream",
          "name": "stdout",
          "text": [
            "Sum of nested list: 36\n"
          ]
        }
      ]
    },
    {
      "cell_type": "markdown",
      "source": [
        "#8.1.1.Task 2 - Generate All Permutations of a String:\n",
        "#Ans:"
      ],
      "metadata": {
        "id": "GM9pplI5wc9N"
      }
    },
    {
      "cell_type": "code",
      "source": [
        "def generate_permutations(s):\n",
        "    if len(s) == 1:\n",
        "        return [s]\n",
        "    permutations = []\n",
        "    for i in range(len(s)):\n",
        "        for perm in generate_permutations(s[:i] + s[i+1:]):\n",
        "            permutations.append(s[i] + perm)\n",
        "    return permutations\n",
        "\n",
        "print(\"Permutations of 'abc':\", generate_permutations(\"abc\"))"
      ],
      "metadata": {
        "colab": {
          "base_uri": "https://localhost:8080/"
        },
        "id": "lmumoz-IwgVk",
        "outputId": "b10c60d0-e2e7-488a-af59-fa844820792c"
      },
      "execution_count": null,
      "outputs": [
        {
          "output_type": "stream",
          "name": "stdout",
          "text": [
            "Permutations of 'abc': ['abc', 'acb', 'bac', 'bca', 'cab', 'cba']\n"
          ]
        }
      ]
    },
    {
      "cell_type": "markdown",
      "source": [
        "#8.1.1.Task 3 - Directory Size Calculation.\n",
        "#Ans:"
      ],
      "metadata": {
        "id": "WhoIaacgwmTG"
      }
    },
    {
      "cell_type": "code",
      "source": [
        "def calculate_directory_size(directory):\n",
        "    total_size = 0\n",
        "    for key, value in directory.items():\n",
        "        if isinstance(value, dict):\n",
        "            total_size += calculate_directory_size(value)\n",
        "        else:\n",
        "            total_size += value\n",
        "    return total_size\n",
        "\n",
        "directory_structure = {\n",
        "    \"file1.txt\": 200,\n",
        "    \"file2.txt\": 300,\n",
        "    \"subdir1\": {\n",
        "        \"file3.txt\": 400,\n",
        "        \"file4.txt\": 100\n",
        "    },\n",
        "    \"subdir2\": {\n",
        "        \"subsubdir1\": {\n",
        "            \"file5.txt\": 250\n",
        "        },\n",
        "        \"file6.txt\": 150\n",
        "    }\n",
        "}\n",
        "\n",
        "print(\"Total directory size:\", calculate_directory_size(directory_structure), \"KB\")\n"
      ],
      "metadata": {
        "colab": {
          "base_uri": "https://localhost:8080/"
        },
        "id": "9KIMUxvMw0Id",
        "outputId": "c02076ba-0834-4e9f-bde9-92ed0fcc8a0d"
      },
      "execution_count": null,
      "outputs": [
        {
          "output_type": "stream",
          "name": "stdout",
          "text": [
            "Total directory size: 1400 KB\n"
          ]
        }
      ]
    },
    {
      "cell_type": "markdown",
      "source": [
        "#8.2.2.Task 1 - Coin Change Problem.\n",
        "#Ans:"
      ],
      "metadata": {
        "id": "2Ze8a1xPxBpZ"
      }
    },
    {
      "cell_type": "code",
      "source": [
        "def min_coins(coins, amount):\n",
        "    dp = [float('inf')] * (amount + 1)\n",
        "    dp[0] = 0\n",
        "    for coin in coins:\n",
        "        for i in range(coin, amount + 1):\n",
        "            dp[i] = min(dp[i], dp[i - coin] + 1)\n",
        "    return dp[amount] if dp[amount] != float('inf') else -1\n",
        "\n",
        "print(\"Minimum coins needed:\", min_coins([1, 2, 5], 11))\n"
      ],
      "metadata": {
        "colab": {
          "base_uri": "https://localhost:8080/"
        },
        "id": "BzWQ4Rt4xCOh",
        "outputId": "00401354-83ad-4494-ccba-b94b2917ac77"
      },
      "execution_count": null,
      "outputs": [
        {
          "output_type": "stream",
          "name": "stdout",
          "text": [
            "Minimum coins needed: 3\n"
          ]
        }
      ]
    },
    {
      "cell_type": "markdown",
      "source": [
        "#8.2.2.Task 2 - Longest Common Subsequence (LCS):\n",
        "#Ans:"
      ],
      "metadata": {
        "id": "uCkeDIx5xDGw"
      }
    },
    {
      "cell_type": "code",
      "source": [
        "def longest_common_subsequence(s1, s2):\n",
        "    m, n = len(s1), len(s2)\n",
        "    dp = [[0] * (n + 1) for _ in range(m + 1)]\n",
        "\n",
        "    for i in range(1, m + 1):\n",
        "        for j in range(1, n + 1):\n",
        "            if s1[i - 1] == s2[j - 1]:\n",
        "                dp[i][j] = dp[i - 1][j - 1] + 1\n",
        "            else:\n",
        "                dp[i][j] = max(dp[i - 1][j], dp[i][j - 1])\n",
        "\n",
        "    return dp[m][n]\n",
        "\n",
        "print(\"LCS length:\", longest_common_subsequence(\"abcde\", \"ace\"))"
      ],
      "metadata": {
        "colab": {
          "base_uri": "https://localhost:8080/"
        },
        "id": "eVdAfWUixDed",
        "outputId": "ec46b341-a179-4b70-c9e5-e389e7f65be3"
      },
      "execution_count": null,
      "outputs": [
        {
          "output_type": "stream",
          "name": "stdout",
          "text": [
            "LCS length: 3\n"
          ]
        }
      ]
    },
    {
      "cell_type": "markdown",
      "source": [
        "#8.2.2.Task 3 - 0/1 Knapsack Problem.\n",
        "#Ans:"
      ],
      "metadata": {
        "id": "YjKtsGbdxXxu"
      }
    },
    {
      "cell_type": "code",
      "source": [
        "def knapsack(weights, values, capacity):\n",
        "\n",
        "    n = len(weights)\n",
        "    dp = [0] * (capacity + 1)\n",
        "\n",
        "    for i in range(n):\n",
        "        for w in range(capacity, weights[i] - 1, -1):\n",
        "            dp[w] = max(dp[w], dp[w - weights[i]] + values[i])\n",
        "\n",
        "    return dp[capacity]\n",
        "\n",
        "print(\"Maximum Value:\", knapsack([1, 3, 4, 5], [1, 4, 5, 7], 7))\n",
        "\n"
      ],
      "metadata": {
        "colab": {
          "base_uri": "https://localhost:8080/"
        },
        "id": "9tcBNQZlxapg",
        "outputId": "19e1a8dc-cb59-4100-a797-a3a99f3559d1"
      },
      "execution_count": null,
      "outputs": [
        {
          "output_type": "stream",
          "name": "stdout",
          "text": [
            "Maximum Value: 9\n"
          ]
        }
      ]
    }
  ]
}